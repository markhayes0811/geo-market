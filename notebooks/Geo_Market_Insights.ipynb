{
  "cells": [
    {
      "cell_type": "markdown",
      "metadata": {},
      "source": [
        "# Geo Market Insights \u2014 End-to-End (Colab)\n",
        "\n",
        "This notebook runs the full pipeline:\n",
        "1. Install requirements (Colab)\n",
        "2. Generate an H3 grid over Wilmington, DE area\n",
        "3. Build synthetic demand (replace with real ACS if desired)\n",
        "4. Compute competition pressure from `data/inputs/competitors.csv`\n",
        "5. Score and rank candidate sites\n",
        "6. Render an interactive Folium map\n"
      ]
    },
    {
      "cell_type": "code",
      "metadata": {
        "id": "pip-install"
      },
      "execution_count": null,
      "outputs": [],
      "source": [
        "import sys, os\n",
        "if 'google.colab' in sys.modules:\n",
        "    !pip -q install -r /content/geo-market-insights/requirements.txt\n",
        "else:\n",
        "    print('Running outside Colab; ensure requirements are installed.')"
      ]
    },
    {
      "cell_type": "code",
      "metadata": {},
      "execution_count": null,
      "outputs": [],
      "source": [
        "# If on Colab, clone or mount your repo so this path exists:\n",
        "import sys, os\n",
        "BASE = '/content/geo-market-insights'\n",
        "if not os.path.exists(BASE):\n",
        "    # Assume this notebook was opened from GitHub; clone the same repo path (edit to your username)\n",
        "    !git clone https://github.com/your-username/geo-market-insights.git {BASE}\n",
        "os.chdir(BASE)\n",
        "print('Working dir:', os.getcwd())"
      ]
    },
    {
      "cell_type": "code",
      "metadata": {},
      "execution_count": null,
      "outputs": [],
      "source": [
        "import pandas as pd\n",
        "import geopandas as gpd\n",
        "from src.config import CENTER_LAT, CENTER_LON, RADIUS_M, H3_RESOLUTION, WEIGHT_DEMAND, WEIGHT_COMPETITION, COMPETITION_DECAY_M, SEED\n",
        "from src.geo_utils import hexes_in_radius\n",
        "from src.demand import synthetic_demand_for_hexes\n",
        "from src.competition import load_competitors, competition_pressure_for_hexes\n",
        "from src.scoring import score_sites\n",
        "from src.visualize import render_map\n",
        "\n",
        "# 1) Grid\n",
        "hex_gdf = hexes_in_radius(CENTER_LAT, CENTER_LON, RADIUS_M, H3_RESOLUTION)\n",
        "print('Hex count:', len(hex_gdf))\n",
        "\n",
        "# 2) Demand\n",
        "hex_dem = synthetic_demand_for_hexes(hex_gdf, seed=SEED)\n",
        "\n",
        "# 3) Competition\n",
        "competitors = load_competitors('data/inputs/competitors.csv')\n",
        "hex_comp = competition_pressure_for_hexes(hex_dem, competitors, decay_m=COMPETITION_DECAY_M)\n",
        "\n",
        "# 4) Score\n",
        "hex_scored = score_sites(hex_comp, WEIGHT_DEMAND, WEIGHT_COMPETITION)\n",
        "hex_scored.head()"
      ]
    },
    {
      "cell_type": "code",
      "metadata": {},
      "execution_count": null,
      "outputs": [],
      "source": [
        "import os\n",
        "os.makedirs('data/outputs', exist_ok=True)\n",
        "hex_scored[['h3','demand','competition','site_score']].to_csv('data/outputs/candidates_ranked.csv', index=False)\n",
        "out_map = render_map(hex_scored, competitors, out_path_html='data/outputs/market_map.html', top_n=15)\n",
        "out_map"
      ]
    },
    {
      "cell_type": "markdown",
      "metadata": {},
      "source": [
        "### Next Steps\n",
        "- Replace synthetic demand with **real ACS data** (median income, pop density, households) and re-score.\n",
        "- Add **existing store list** separately and penalize self-cannibalization more than competitors.\n",
        "- Switch to **travel-time** distances (OSRM/Valhalla) for more realism.\n"
      ]
    }
  ],
  "metadata": {
    "kernelspec": {
      "display_name": "Python 3",
      "language": "python",
      "name": "python3"
    },
    "language_info": {
      "name": "python",
      "version": "3.x"
    }
  },
  "nbformat": 4,
  "nbformat_minor": 5
}