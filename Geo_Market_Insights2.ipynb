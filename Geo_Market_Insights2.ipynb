{
  "cells": [
    {
      "cell_type": "markdown",
      "metadata": {
        "id": "view-in-github",
        "colab_type": "text"
      },
      "source": [
        "<a href=\"https://colab.research.google.com/github/markhayes0811/geo-market/blob/main/Geo_Market_Insights2.ipynb\" target=\"_parent\"><img src=\"https://colab.research.google.com/assets/colab-badge.svg\" alt=\"Open In Colab\"/></a>"
      ]
    },
    {
      "cell_type": "markdown",
      "metadata": {
        "id": "KSe39TUsaUHi"
      },
      "source": [
        "# Geo Market Insights — End-to-End (Colab)\n",
        "\n",
        "This notebook runs the full pipeline:\n",
        "1. Install requirements (Colab)\n",
        "2. Generate an H3 grid over Wilmington, DE area\n",
        "3. Build synthetic demand (replace with real ACS if desired)\n",
        "4. Compute competition pressure from `data/inputs/competitors.csv`\n",
        "5. Score and rank candidate sites\n",
        "6. Render an interactive Folium map\n"
      ],
      "id": "KSe39TUsaUHi"
    },
    {
      "cell_type": "code",
      "source": [
        "# Make sure we're on the new API\n",
        "!pip -q install \"h3>=4.0.0\"\n",
        "\n",
        "import h3\n",
        "print(\"h3 version:\", h3.__version__)\n",
        "assert hasattr(h3, \"latlng_to_cell\"), \"h3 v4+ is required.\""
      ],
      "metadata": {
        "colab": {
          "base_uri": "https://localhost:8080/"
        },
        "id": "5_wRKqMInvUb",
        "outputId": "fb671ba7-4c5d-400b-e091-32e66f6bf8f9"
      },
      "id": "5_wRKqMInvUb",
      "execution_count": 17,
      "outputs": [
        {
          "output_type": "stream",
          "name": "stdout",
          "text": [
            "h3 version: 4.3.1\n"
          ]
        }
      ]
    },
    {
      "cell_type": "code",
      "source": [
        "!git clone https://github.com/markhayes0811/geo-market.git /content/geo-market-insights\n",
        "%cd /content/geo-market-insights"
      ],
      "metadata": {
        "colab": {
          "base_uri": "https://localhost:8080/"
        },
        "id": "vih-6cNBa1Sg",
        "outputId": "b8a49c5f-1361-4614-c0db-8207049a3512"
      },
      "id": "vih-6cNBa1Sg",
      "execution_count": 18,
      "outputs": [
        {
          "output_type": "stream",
          "name": "stdout",
          "text": [
            "fatal: destination path '/content/geo-market-insights' already exists and is not an empty directory.\n",
            "/content/geo-market-insights\n"
          ]
        }
      ]
    },
    {
      "cell_type": "code",
      "source": [
        "from src.geo_utils import hexes_in_radius  # now uses v4 API"
      ],
      "metadata": {
        "id": "iYjM33cxn59C"
      },
      "id": "iYjM33cxn59C",
      "execution_count": 19,
      "outputs": []
    },
    {
      "cell_type": "code",
      "metadata": {
        "id": "pip-install",
        "colab": {
          "base_uri": "https://localhost:8080/"
        },
        "outputId": "daaf56f7-00e4-4e71-bf33-f4a40888150e"
      },
      "execution_count": 20,
      "outputs": [
        {
          "output_type": "stream",
          "name": "stdout",
          "text": [
            "Requirement already satisfied: pandas in /usr/local/lib/python3.12/dist-packages (from -r requirements.txt (line 1)) (2.2.2)\n",
            "Requirement already satisfied: numpy in /usr/local/lib/python3.12/dist-packages (from -r requirements.txt (line 2)) (2.0.2)\n",
            "Requirement already satisfied: geopandas in /usr/local/lib/python3.12/dist-packages (from -r requirements.txt (line 3)) (1.1.1)\n",
            "Requirement already satisfied: shapely in /usr/local/lib/python3.12/dist-packages (from -r requirements.txt (line 4)) (2.1.1)\n",
            "Requirement already satisfied: folium in /usr/local/lib/python3.12/dist-packages (from -r requirements.txt (line 5)) (0.20.0)\n",
            "Requirement already satisfied: h3 in /usr/local/lib/python3.12/dist-packages (from -r requirements.txt (line 6)) (4.3.1)\n",
            "Requirement already satisfied: matplotlib in /usr/local/lib/python3.12/dist-packages (from -r requirements.txt (line 7)) (3.10.0)\n",
            "Requirement already satisfied: scikit-learn in /usr/local/lib/python3.12/dist-packages (from -r requirements.txt (line 8)) (1.6.1)\n",
            "Requirement already satisfied: osmnx in /usr/local/lib/python3.12/dist-packages (from -r requirements.txt (line 9)) (2.0.6)\n",
            "Requirement already satisfied: python-dateutil>=2.8.2 in /usr/local/lib/python3.12/dist-packages (from pandas->-r requirements.txt (line 1)) (2.9.0.post0)\n",
            "Requirement already satisfied: pytz>=2020.1 in /usr/local/lib/python3.12/dist-packages (from pandas->-r requirements.txt (line 1)) (2025.2)\n",
            "Requirement already satisfied: tzdata>=2022.7 in /usr/local/lib/python3.12/dist-packages (from pandas->-r requirements.txt (line 1)) (2025.2)\n",
            "Requirement already satisfied: pyogrio>=0.7.2 in /usr/local/lib/python3.12/dist-packages (from geopandas->-r requirements.txt (line 3)) (0.11.1)\n",
            "Requirement already satisfied: packaging in /usr/local/lib/python3.12/dist-packages (from geopandas->-r requirements.txt (line 3)) (25.0)\n",
            "Requirement already satisfied: pyproj>=3.5.0 in /usr/local/lib/python3.12/dist-packages (from geopandas->-r requirements.txt (line 3)) (3.7.2)\n",
            "Requirement already satisfied: branca>=0.6.0 in /usr/local/lib/python3.12/dist-packages (from folium->-r requirements.txt (line 5)) (0.8.1)\n",
            "Requirement already satisfied: jinja2>=2.9 in /usr/local/lib/python3.12/dist-packages (from folium->-r requirements.txt (line 5)) (3.1.6)\n",
            "Requirement already satisfied: requests in /usr/local/lib/python3.12/dist-packages (from folium->-r requirements.txt (line 5)) (2.32.4)\n",
            "Requirement already satisfied: xyzservices in /usr/local/lib/python3.12/dist-packages (from folium->-r requirements.txt (line 5)) (2025.4.0)\n",
            "Requirement already satisfied: contourpy>=1.0.1 in /usr/local/lib/python3.12/dist-packages (from matplotlib->-r requirements.txt (line 7)) (1.3.3)\n",
            "Requirement already satisfied: cycler>=0.10 in /usr/local/lib/python3.12/dist-packages (from matplotlib->-r requirements.txt (line 7)) (0.12.1)\n",
            "Requirement already satisfied: fonttools>=4.22.0 in /usr/local/lib/python3.12/dist-packages (from matplotlib->-r requirements.txt (line 7)) (4.60.0)\n",
            "Requirement already satisfied: kiwisolver>=1.3.1 in /usr/local/lib/python3.12/dist-packages (from matplotlib->-r requirements.txt (line 7)) (1.4.9)\n",
            "Requirement already satisfied: pillow>=8 in /usr/local/lib/python3.12/dist-packages (from matplotlib->-r requirements.txt (line 7)) (11.3.0)\n",
            "Requirement already satisfied: pyparsing>=2.3.1 in /usr/local/lib/python3.12/dist-packages (from matplotlib->-r requirements.txt (line 7)) (3.2.4)\n",
            "Requirement already satisfied: scipy>=1.6.0 in /usr/local/lib/python3.12/dist-packages (from scikit-learn->-r requirements.txt (line 8)) (1.16.2)\n",
            "Requirement already satisfied: joblib>=1.2.0 in /usr/local/lib/python3.12/dist-packages (from scikit-learn->-r requirements.txt (line 8)) (1.5.2)\n",
            "Requirement already satisfied: threadpoolctl>=3.1.0 in /usr/local/lib/python3.12/dist-packages (from scikit-learn->-r requirements.txt (line 8)) (3.6.0)\n",
            "Requirement already satisfied: networkx>=2.5 in /usr/local/lib/python3.12/dist-packages (from osmnx->-r requirements.txt (line 9)) (3.5)\n",
            "Requirement already satisfied: MarkupSafe>=2.0 in /usr/local/lib/python3.12/dist-packages (from jinja2>=2.9->folium->-r requirements.txt (line 5)) (3.0.2)\n",
            "Requirement already satisfied: certifi in /usr/local/lib/python3.12/dist-packages (from pyogrio>=0.7.2->geopandas->-r requirements.txt (line 3)) (2025.8.3)\n",
            "Requirement already satisfied: six>=1.5 in /usr/local/lib/python3.12/dist-packages (from python-dateutil>=2.8.2->pandas->-r requirements.txt (line 1)) (1.17.0)\n",
            "Requirement already satisfied: charset_normalizer<4,>=2 in /usr/local/lib/python3.12/dist-packages (from requests->folium->-r requirements.txt (line 5)) (3.4.3)\n",
            "Requirement already satisfied: idna<4,>=2.5 in /usr/local/lib/python3.12/dist-packages (from requests->folium->-r requirements.txt (line 5)) (3.10)\n",
            "Requirement already satisfied: urllib3<3,>=1.21.1 in /usr/local/lib/python3.12/dist-packages (from requests->folium->-r requirements.txt (line 5)) (2.5.0)\n"
          ]
        }
      ],
      "source": [
        "import sys, os\n",
        "if 'google.colab' in sys.modules:\n",
        "    !pip install -r requirements.txt\n",
        "else:\n",
        "    print('Running outside Colab; ensure requirements are installed.')"
      ],
      "id": "pip-install"
    },
    {
      "cell_type": "code",
      "metadata": {
        "colab": {
          "base_uri": "https://localhost:8080/"
        },
        "id": "Cgusa3C5aUHm",
        "outputId": "7c6b9bc6-2b8c-478a-bfc4-dc2f8a9cb823"
      },
      "execution_count": 21,
      "outputs": [
        {
          "output_type": "stream",
          "name": "stdout",
          "text": [
            "Working dir: /content/geo-market-insights\n"
          ]
        }
      ],
      "source": [
        "# If on Colab, clone or mount your repo so this path exists:\n",
        "import sys, os\n",
        "BASE = '/content/geo-market-insights'\n",
        "if not os.path.exists(BASE):\n",
        "    # Assume this notebook was opened from GitHub; clone the same repo path (edit to your username)\n",
        "    !git clone https://github.com/markhayes0811/geo-market.git {BASE}\n",
        "os.chdir(BASE)\n",
        "print('Working dir:', os.getcwd())"
      ],
      "id": "Cgusa3C5aUHm"
    },
    {
      "cell_type": "code",
      "source": [
        "!pip install h3==3.7.6"
      ],
      "metadata": {
        "colab": {
          "base_uri": "https://localhost:8080/"
        },
        "id": "p3b4GWzvmKFa",
        "outputId": "b91da16c-c8ba-462d-e97d-e40cfda98cc6"
      },
      "id": "p3b4GWzvmKFa",
      "execution_count": 24,
      "outputs": [
        {
          "output_type": "stream",
          "name": "stdout",
          "text": [
            "Collecting h3==3.7.6\n",
            "  Using cached h3-3.7.6.tar.gz (178 kB)\n",
            "  Installing build dependencies ... \u001b[?25l\u001b[?25hdone\n",
            "  Getting requirements to build wheel ... \u001b[?25l\u001b[?25hdone\n",
            "  Preparing metadata (pyproject.toml) ... \u001b[?25l\u001b[?25hdone\n",
            "Building wheels for collected packages: h3\n",
            "  \u001b[1;31merror\u001b[0m: \u001b[1msubprocess-exited-with-error\u001b[0m\n",
            "  \n",
            "  \u001b[31m×\u001b[0m \u001b[32mBuilding wheel for h3 \u001b[0m\u001b[1;32m(\u001b[0m\u001b[32mpyproject.toml\u001b[0m\u001b[1;32m)\u001b[0m did not run successfully.\n",
            "  \u001b[31m│\u001b[0m exit code: \u001b[1;36m1\u001b[0m\n",
            "  \u001b[31m╰─>\u001b[0m See above for output.\n",
            "  \n",
            "  \u001b[1;35mnote\u001b[0m: This error originates from a subprocess, and is likely not a problem with pip.\n",
            "  Building wheel for h3 (pyproject.toml) ... \u001b[?25l\u001b[?25herror\n",
            "\u001b[31m  ERROR: Failed building wheel for h3\u001b[0m\u001b[31m\n",
            "\u001b[0mFailed to build h3\n",
            "\u001b[31mERROR: ERROR: Failed to build installable wheels for some pyproject.toml based projects (h3)\u001b[0m\u001b[31m\n",
            "\u001b[0m"
          ]
        }
      ]
    },
    {
      "cell_type": "code",
      "metadata": {
        "colab": {
          "base_uri": "https://localhost:8080/",
          "height": 332
        },
        "id": "HKS2BTzNaUHn",
        "outputId": "8b240ac9-10aa-4d0d-af79-03ec3e9af7eb"
      },
      "execution_count": 25,
      "outputs": [
        {
          "output_type": "error",
          "ename": "AttributeError",
          "evalue": "module 'h3' has no attribute 'geo_to_h3'",
          "traceback": [
            "\u001b[0;31m---------------------------------------------------------------------------\u001b[0m",
            "\u001b[0;31mAttributeError\u001b[0m                            Traceback (most recent call last)",
            "\u001b[0;32m/tmp/ipython-input-1860529393.py\u001b[0m in \u001b[0;36m<cell line: 0>\u001b[0;34m()\u001b[0m\n\u001b[1;32m     10\u001b[0m \u001b[0;34m\u001b[0m\u001b[0m\n\u001b[1;32m     11\u001b[0m \u001b[0;31m# 1) Grid\u001b[0m\u001b[0;34m\u001b[0m\u001b[0;34m\u001b[0m\u001b[0m\n\u001b[0;32m---> 12\u001b[0;31m \u001b[0mhex_gdf\u001b[0m \u001b[0;34m=\u001b[0m \u001b[0mhexes_in_radius\u001b[0m\u001b[0;34m(\u001b[0m\u001b[0mCENTER_LAT\u001b[0m\u001b[0;34m,\u001b[0m \u001b[0mCENTER_LON\u001b[0m\u001b[0;34m,\u001b[0m \u001b[0mRADIUS_M\u001b[0m\u001b[0;34m,\u001b[0m \u001b[0mH3_RESOLUTION\u001b[0m\u001b[0;34m)\u001b[0m\u001b[0;34m\u001b[0m\u001b[0;34m\u001b[0m\u001b[0m\n\u001b[0m\u001b[1;32m     13\u001b[0m \u001b[0mprint\u001b[0m\u001b[0;34m(\u001b[0m\u001b[0;34m'Hex count:'\u001b[0m\u001b[0;34m,\u001b[0m \u001b[0mlen\u001b[0m\u001b[0;34m(\u001b[0m\u001b[0mhex_gdf\u001b[0m\u001b[0;34m)\u001b[0m\u001b[0;34m)\u001b[0m\u001b[0;34m\u001b[0m\u001b[0;34m\u001b[0m\u001b[0m\n\u001b[1;32m     14\u001b[0m \u001b[0;34m\u001b[0m\u001b[0m\n",
            "\u001b[0;32m/content/geo-market-insights/src/geo_utils.py\u001b[0m in \u001b[0;36mhexes_in_radius\u001b[0;34m(center_lat, center_lon, radius_m, res)\u001b[0m\n\u001b[1;32m     16\u001b[0m \u001b[0;34m\u001b[0m\u001b[0m\n\u001b[1;32m     17\u001b[0m \u001b[0;32mdef\u001b[0m \u001b[0mhexes_in_radius\u001b[0m\u001b[0;34m(\u001b[0m\u001b[0mcenter_lat\u001b[0m\u001b[0;34m,\u001b[0m \u001b[0mcenter_lon\u001b[0m\u001b[0;34m,\u001b[0m \u001b[0mradius_m\u001b[0m\u001b[0;34m,\u001b[0m \u001b[0mres\u001b[0m\u001b[0;34m)\u001b[0m\u001b[0;34m:\u001b[0m\u001b[0;34m\u001b[0m\u001b[0;34m\u001b[0m\u001b[0m\n\u001b[0;32m---> 18\u001b[0;31m     \u001b[0mcenter_hex\u001b[0m \u001b[0;34m=\u001b[0m \u001b[0mh3\u001b[0m\u001b[0;34m.\u001b[0m\u001b[0mgeo_to_h3\u001b[0m\u001b[0;34m(\u001b[0m\u001b[0mcenter_lat\u001b[0m\u001b[0;34m,\u001b[0m \u001b[0mcenter_lon\u001b[0m\u001b[0;34m,\u001b[0m \u001b[0mres\u001b[0m\u001b[0;34m)\u001b[0m\u001b[0;34m\u001b[0m\u001b[0;34m\u001b[0m\u001b[0m\n\u001b[0m\u001b[1;32m     19\u001b[0m     \u001b[0;31m# expand rings until the hex boundary extent exceeds radius; simple approach\u001b[0m\u001b[0;34m\u001b[0m\u001b[0;34m\u001b[0m\u001b[0m\n\u001b[1;32m     20\u001b[0m     \u001b[0mk\u001b[0m \u001b[0;34m=\u001b[0m \u001b[0;36m1\u001b[0m\u001b[0;34m\u001b[0m\u001b[0;34m\u001b[0m\u001b[0m\n",
            "\u001b[0;31mAttributeError\u001b[0m: module 'h3' has no attribute 'geo_to_h3'"
          ]
        }
      ],
      "source": [
        "import pandas as pd\n",
        "import geopandas as gpd\n",
        "from src.config import CENTER_LAT, CENTER_LON, RADIUS_M, H3_RESOLUTION, WEIGHT_DEMAND, WEIGHT_COMPETITION, COMPETITION_DECAY_M, SEED\n",
        "from src.geo_utils import hexes_in_radius\n",
        "from src.demand import synthetic_demand_for_hexes\n",
        "from src.competition import load_competitors, competition_pressure_for_hexes\n",
        "from src.scoring import score_sites\n",
        "from src.visualize import render_map\n",
        "\n",
        "\n",
        "# 1) Grid\n",
        "hex_gdf = hexes_in_radius(CENTER_LAT, CENTER_LON, RADIUS_M, H3_RESOLUTION)\n",
        "print('Hex count:', len(hex_gdf))\n",
        "\n",
        "# 2) Demand\n",
        "hex_dem = synthetic_demand_for_hexes(hex_gdf, seed=SEED)\n",
        "\n",
        "# 3) Competition\n",
        "competitors = load_competitors('data/inputs/competitors.csv')\n",
        "hex_comp = competition_pressure_for_hexes(hex_dem, competitors, decay_m=COMPETITION_DECAY_M)\n",
        "\n",
        "# 4) Score\n",
        "hex_scored = score_sites(hex_comp, WEIGHT_DEMAND, WEIGHT_COMPETITION)\n",
        "hex_scored.head()"
      ],
      "id": "HKS2BTzNaUHn"
    },
    {
      "cell_type": "code",
      "metadata": {
        "colab": {
          "base_uri": "https://localhost:8080/",
          "height": 211
        },
        "id": "pJDRMZMAaUHn",
        "outputId": "d44c2e11-13a0-4bb3-a48a-3d479e6e7db0"
      },
      "execution_count": 23,
      "outputs": [
        {
          "output_type": "error",
          "ename": "NameError",
          "evalue": "name 'hex_scored' is not defined",
          "traceback": [
            "\u001b[0;31m---------------------------------------------------------------------------\u001b[0m",
            "\u001b[0;31mNameError\u001b[0m                                 Traceback (most recent call last)",
            "\u001b[0;32m/tmp/ipython-input-648981854.py\u001b[0m in \u001b[0;36m<cell line: 0>\u001b[0;34m()\u001b[0m\n\u001b[1;32m      1\u001b[0m \u001b[0;32mimport\u001b[0m \u001b[0mos\u001b[0m\u001b[0;34m\u001b[0m\u001b[0;34m\u001b[0m\u001b[0m\n\u001b[1;32m      2\u001b[0m \u001b[0mos\u001b[0m\u001b[0;34m.\u001b[0m\u001b[0mmakedirs\u001b[0m\u001b[0;34m(\u001b[0m\u001b[0;34m'data/outputs'\u001b[0m\u001b[0;34m,\u001b[0m \u001b[0mexist_ok\u001b[0m\u001b[0;34m=\u001b[0m\u001b[0;32mTrue\u001b[0m\u001b[0;34m)\u001b[0m\u001b[0;34m\u001b[0m\u001b[0;34m\u001b[0m\u001b[0m\n\u001b[0;32m----> 3\u001b[0;31m \u001b[0mhex_scored\u001b[0m\u001b[0;34m[\u001b[0m\u001b[0;34m[\u001b[0m\u001b[0;34m'h3'\u001b[0m\u001b[0;34m,\u001b[0m\u001b[0;34m'demand'\u001b[0m\u001b[0;34m,\u001b[0m\u001b[0;34m'competition'\u001b[0m\u001b[0;34m,\u001b[0m\u001b[0;34m'site_score'\u001b[0m\u001b[0;34m]\u001b[0m\u001b[0;34m]\u001b[0m\u001b[0;34m.\u001b[0m\u001b[0mto_csv\u001b[0m\u001b[0;34m(\u001b[0m\u001b[0;34m'data/outputs/candidates_ranked.csv'\u001b[0m\u001b[0;34m,\u001b[0m \u001b[0mindex\u001b[0m\u001b[0;34m=\u001b[0m\u001b[0;32mFalse\u001b[0m\u001b[0;34m)\u001b[0m\u001b[0;34m\u001b[0m\u001b[0;34m\u001b[0m\u001b[0m\n\u001b[0m\u001b[1;32m      4\u001b[0m \u001b[0mout_map\u001b[0m \u001b[0;34m=\u001b[0m \u001b[0mrender_map\u001b[0m\u001b[0;34m(\u001b[0m\u001b[0mhex_scored\u001b[0m\u001b[0;34m,\u001b[0m \u001b[0mcompetitors\u001b[0m\u001b[0;34m,\u001b[0m \u001b[0mout_path_html\u001b[0m\u001b[0;34m=\u001b[0m\u001b[0;34m'data/outputs/market_map.html'\u001b[0m\u001b[0;34m,\u001b[0m \u001b[0mtop_n\u001b[0m\u001b[0;34m=\u001b[0m\u001b[0;36m15\u001b[0m\u001b[0;34m)\u001b[0m\u001b[0;34m\u001b[0m\u001b[0;34m\u001b[0m\u001b[0m\n\u001b[1;32m      5\u001b[0m \u001b[0mout_map\u001b[0m\u001b[0;34m\u001b[0m\u001b[0;34m\u001b[0m\u001b[0m\n",
            "\u001b[0;31mNameError\u001b[0m: name 'hex_scored' is not defined"
          ]
        }
      ],
      "source": [
        "import os\n",
        "os.makedirs('data/outputs', exist_ok=True)\n",
        "hex_scored[['h3','demand','competition','site_score']].to_csv('data/outputs/candidates_ranked.csv', index=False)\n",
        "out_map = render_map(hex_scored, competitors, out_path_html='data/outputs/market_map.html', top_n=15)\n",
        "out_map"
      ],
      "id": "pJDRMZMAaUHn"
    },
    {
      "cell_type": "markdown",
      "metadata": {
        "id": "GrJyb8qBaUHn"
      },
      "source": [
        "### Next Steps\n",
        "- Replace synthetic demand with **real ACS data** (median income, pop density, households) and re-score.\n",
        "- Add **existing store list** separately and penalize self-cannibalization more than competitors.\n",
        "- Switch to **travel-time** distances (OSRM/Valhalla) for more realism.\n"
      ],
      "id": "GrJyb8qBaUHn"
    }
  ],
  "metadata": {
    "kernelspec": {
      "display_name": "Python 3",
      "language": "python",
      "name": "python3"
    },
    "language_info": {
      "name": "python",
      "version": "3.x"
    },
    "colab": {
      "provenance": [],
      "include_colab_link": true
    }
  },
  "nbformat": 4,
  "nbformat_minor": 5
}